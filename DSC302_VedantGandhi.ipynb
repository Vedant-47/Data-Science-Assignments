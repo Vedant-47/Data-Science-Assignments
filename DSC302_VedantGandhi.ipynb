{
 "cells": [
  {
   "cell_type": "code",
   "execution_count": 1,
   "metadata": {},
   "outputs": [
    {
     "data": {
      "text/plain": [
       "2401"
      ]
     },
     "execution_count": 1,
     "metadata": {},
     "output_type": "execute_result"
    }
   ],
   "source": [
    "# what is 7 to the power 4 \n",
    "a = 7**4\n",
    "a"
   ]
  },
  {
   "cell_type": "code",
   "execution_count": 2,
   "metadata": {},
   "outputs": [
    {
     "data": {
      "text/plain": [
       "1"
      ]
     },
     "execution_count": 2,
     "metadata": {},
     "output_type": "execute_result"
    }
   ],
   "source": [
    "# floor division\n",
    "b =7//4\n",
    "b"
   ]
  },
  {
   "cell_type": "code",
   "execution_count": 3,
   "metadata": {},
   "outputs": [
    {
     "data": {
      "text/plain": [
       "['Hi', 'there', 'Sam!']"
      ]
     },
     "execution_count": 3,
     "metadata": {},
     "output_type": "execute_result"
    }
   ],
   "source": [
    "# Split the string \n",
    "str = \"Hi there Sam!\"\n",
    "str.split()"
   ]
  },
  {
   "cell_type": "code",
   "execution_count": 4,
   "metadata": {},
   "outputs": [],
   "source": [
    "# List - It is enclosed in square brakets ; It can consist of any data types ; Tuples can form lists ; mutable\n",
    "\n",
    "# tuple - It is enclsoed in parenthesis ; consist any datatype ; immutable ; list can also form tuples\n",
    "\n",
    "# set - It is enclosed in curly brackets ; can store multiple values in on var. ; no indexing and no order is followed ; mutable ; there can be duplicates\n",
    "\n",
    "# dictionary - It is enclosed in curly brackets ; it makes key-value pairs ; keys are immutable and values are mutable ; can also shown as matrix ; no duplicates ; indexing is of individual pair ; value can be duplicate\n",
    "\n",
    "# Strings - It is a sequence of characters which is enclosed in (\"\") or ('') \n",
    "\n",
    "# functions of Strings - count() ; capitalize() ; casefold() ; reversed() ; isupper() ; islower() ; isalpha() ; isalnum() ; istitle() ; trim() ; split()"
   ]
  },
  {
   "cell_type": "code",
   "execution_count": 5,
   "metadata": {},
   "outputs": [
    {
     "name": "stdout",
     "output_type": "stream",
     "text": [
      "The diameter of the Earth is 12742\n"
     ]
    }
   ],
   "source": [
    "planet = \"Earth\"\n",
    "diameter = 12742\n",
    "print(f\"The diameter of the {planet} is {diameter}\")"
   ]
  },
  {
   "cell_type": "code",
   "execution_count": 6,
   "metadata": {},
   "outputs": [
    {
     "data": {
      "text/plain": [
       "'Hello'"
      ]
     },
     "execution_count": 6,
     "metadata": {},
     "output_type": "execute_result"
    }
   ],
   "source": [
    "# indexing 01\n",
    "\n",
    "lst1 = [1,2,[3,4],[5,[100,200,[\"Hello\"]],23,11],1,7]\n",
    "lst1[3][1][2][0]"
   ]
  },
  {
   "cell_type": "code",
   "execution_count": 7,
   "metadata": {},
   "outputs": [
    {
     "data": {
      "text/plain": [
       "'hello'"
      ]
     },
     "execution_count": 7,
     "metadata": {},
     "output_type": "execute_result"
    }
   ],
   "source": [
    "# indexing 02\n",
    "\n",
    "z = {'k1':[1,2,3,{'tricky':['oh','man','inception',{'target':[1,2,3,'hello']}]}]}\n",
    "z['k1'][3]['tricky'][3]['target'][3]"
   ]
  },
  {
   "cell_type": "code",
   "execution_count": 13,
   "metadata": {},
   "outputs": [
    {
     "name": "stdout",
     "output_type": "stream",
     "text": [
      "gmail.com\n"
     ]
    }
   ],
   "source": [
    "# create a function that grabs the email website domain from a string \n",
    "def email(mail):\n",
    "    s = mail.split('@')\n",
    "    print(s[1])\n",
    "\n",
    "mail=\"vedant@gmail.com\"\n",
    "email(mail)\n"
   ]
  },
  {
   "cell_type": "code",
   "execution_count": 12,
   "metadata": {},
   "outputs": [
    {
     "name": "stdout",
     "output_type": "stream",
     "text": [
      "True\n"
     ]
    }
   ],
   "source": [
    "# create a function that grabs the word \"dog\"\n",
    "def dog(sr):\n",
    "    if 'dog' in sr:\n",
    "        return True\n",
    "    else:\n",
    "        return False\n",
    "sr = \"There is a dog !\"\n",
    "print(dog(sr))\n"
   ]
  },
  {
   "cell_type": "code",
   "execution_count": 14,
   "metadata": {},
   "outputs": [
    {
     "name": "stdout",
     "output_type": "stream",
     "text": [
      "['soup', 'salad']\n"
     ]
    }
   ],
   "source": [
    "# Use lambda expressions and the filter() function to filter out words from a list that don't start with the letter 's'.\n",
    "\n",
    "seq = ['soup','dog','salad','cat','great']\n",
    "filtered = list(filter(lambda word : word.startswith('s'),seq))\n",
    "print(filtered)"
   ]
  },
  {
   "cell_type": "code",
   "execution_count": 18,
   "metadata": {},
   "outputs": [
    {
     "name": "stdout",
     "output_type": "stream",
     "text": [
      "Small Ticket\n"
     ]
    }
   ],
   "source": [
    "# Write a function to return one of 3 possible results: \"No ticket\", \"Small ticket\", or \"Big Ticket\".\n",
    "def ticket(speed):\n",
    "    birthday = int(input(\"Enter your birthday (DDMM)\"))\n",
    "    date1 = int(input(\"Enter today's date (DDMM)\"))\n",
    "    if date1 != birthday:\n",
    "        if speed <= 60:\n",
    "            print(\"No Ticket\")\n",
    "        elif speed >= 61 and speed <=80:\n",
    "            print(\"Small Ticket\")\n",
    "        else:\n",
    "            print(\"Big Ticket\")\n",
    "    else:\n",
    "        if speed <= 65:\n",
    "            print(\"No Ticket\")\n",
    "        elif speed >= 66 and speed <=85:\n",
    "            print(\"Small Ticket\")\n",
    "        else:\n",
    "            print(\"Big Ticket\")\n",
    "\n",
    "speed = int(input(\"Enter your speed\"))\n",
    "ticket(speed)\n"
   ]
  },
  {
   "cell_type": "code",
   "execution_count": 20,
   "metadata": {},
   "outputs": [
    {
     "name": "stdout",
     "output_type": "stream",
     "text": [
      "311\n",
      "Vedant\n",
      "Passed in physics\n",
      "Passed in chemistry\n",
      "Passed in maths\n",
      "Your percentage is  90.0\n",
      "Grade is Distinction !\n"
     ]
    }
   ],
   "source": [
    "roll = int(input(\"Enter your roll number: \"))\n",
    "name = input(\"Enter your name: \")\n",
    "physics = int(input(\"Enter your Physics marks: \"))\n",
    "chemistry = int(input(\"Enter your Chemistry marks: \"))\n",
    "maths = int(input(\"Enter your Maths marks: \"))\n",
    "print(roll)\n",
    "print(name)\n",
    "if physics >= 40:\n",
    "    print(\"Passed in physics\")\n",
    "else:\n",
    "    print(\"Failed in physics\")\n",
    "if chemistry >= 40:\n",
    "    print(\"Passed in chemistry\")\n",
    "else:\n",
    "    print(\"Failed in chemistry\")\n",
    "if maths >= 40:\n",
    "    print(\"Passed in maths\")\n",
    "else:\n",
    "    print(\"Failed in maths\")\n",
    "total = physics+chemistry+maths\n",
    "percentage = (total*100)/300\n",
    "print(\"Your percentage is \",percentage)\n",
    "if percentage > 70:\n",
    "    print(\"Grade is Distinction !\")\n",
    "elif percentage > 60:\n",
    "    print(\"Grade is First Class !\")\n",
    "elif percentage > 50:\n",
    "    print(\"Grade is Second Class !\")\n",
    "elif percentage > 40:\n",
    "    print(\"Grade is Pass Class\")\n",
    "else:\n",
    "    print(\"No Grade\") "
   ]
  },
  {
   "cell_type": "code",
   "execution_count": 23,
   "metadata": {},
   "outputs": [
    {
     "name": "stdout",
     "output_type": "stream",
     "text": [
      "Your HRA is:  3500.0\n",
      "Your DA is:  5800.0\n",
      "Your PF is:  950.0\n",
      "Your bonus is:  3300.0\n",
      "Your Net Salary is:  21650.0\n"
     ]
    }
   ],
   "source": [
    "emp_id = input(\"Enter your Employee id: \")\n",
    "name = input(\"Enter your name: \")\n",
    "b_salary = int(input(\"Enter your basic salary: \"))\n",
    "exp = int(input(\"Enter no.of experience in years: \"))\n",
    "hra = b_salary*0.35\n",
    "print(\"Your HRA is: \",hra)\n",
    "da = b_salary*0.58\n",
    "print(\"Your DA is: \",da)\n",
    "pf = b_salary*0.095\n",
    "print(\"Your PF is: \",pf)\n",
    "\n",
    "if exp >= 30:\n",
    "    bonus=b_salary*0.59\n",
    "    print(\"Your bonus is\",bonus)\n",
    "elif exp >= 23:\n",
    "    bonus=b_salary*0.51\n",
    "    print(\"Your bonus is: \",bonus)\n",
    "elif exp >= 15:\n",
    "    bonus=b_salary*0.45\n",
    "    print(\"Your bonus is: \",bonus)\n",
    "elif exp >= 7:\n",
    "    bonus=b_salary*0.33\n",
    "    print(\"Your bonus is: \",bonus)\n",
    "elif exp < 7:\n",
    "    bonus=b_salary*0.16\n",
    "    print(\"Your bonus is: \",bonus)\n",
    "\n",
    "net = b_salary+da+hra-pf+bonus\n",
    "print(\"Your Net Salary is: \",net)\n",
    "\n"
   ]
  },
  {
   "cell_type": "code",
   "execution_count": null,
   "metadata": {},
   "outputs": [],
   "source": []
  }
 ],
 "metadata": {
  "kernelspec": {
   "display_name": "base",
   "language": "python",
   "name": "python3"
  },
  "language_info": {
   "codemirror_mode": {
    "name": "ipython",
    "version": 3
   },
   "file_extension": ".py",
   "mimetype": "text/x-python",
   "name": "python",
   "nbconvert_exporter": "python",
   "pygments_lexer": "ipython3",
   "version": "3.11.5"
  }
 },
 "nbformat": 4,
 "nbformat_minor": 2
}
